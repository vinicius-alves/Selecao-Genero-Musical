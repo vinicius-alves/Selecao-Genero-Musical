{
 "cells": [
  {
   "cell_type": "code",
   "execution_count": 128,
   "metadata": {},
   "outputs": [],
   "source": [
    "import pandas as pd\n",
    "import numpy as np\n",
    "import time\n",
    "import string\n",
    "from unidecode import unidecode"
   ]
  },
  {
   "cell_type": "code",
   "execution_count": 129,
   "metadata": {},
   "outputs": [
    {
     "data": {
      "text/html": [
       "<div>\n",
       "<style scoped>\n",
       "    .dataframe tbody tr th:only-of-type {\n",
       "        vertical-align: middle;\n",
       "    }\n",
       "\n",
       "    .dataframe tbody tr th {\n",
       "        vertical-align: top;\n",
       "    }\n",
       "\n",
       "    .dataframe thead th {\n",
       "        text-align: right;\n",
       "    }\n",
       "</style>\n",
       "<table border=\"1\" class=\"dataframe\">\n",
       "  <thead>\n",
       "    <tr style=\"text-align: right;\">\n",
       "      <th></th>\n",
       "      <th>ALink</th>\n",
       "      <th>SName</th>\n",
       "      <th>SLink</th>\n",
       "      <th>Lyric</th>\n",
       "      <th>ParentGenre</th>\n",
       "      <th>Genres</th>\n",
       "      <th>Genres_API</th>\n",
       "    </tr>\n",
       "  </thead>\n",
       "  <tbody>\n",
       "    <tr>\n",
       "      <th>0</th>\n",
       "      <td>/andre-drake/</td>\n",
       "      <td>Bae ft. V.P Rap</td>\n",
       "      <td>/andre-drake/bae-ft-v-p-rap.html</td>\n",
       "      <td>[André Drake]. Minha princesa eu troco tudo pr...</td>\n",
       "      <td>Black Music</td>\n",
       "      <td>Black Music, Hip Hop, Rap</td>\n",
       "      <td>Black Music, Hip Hop, Rap</td>\n",
       "    </tr>\n",
       "    <tr>\n",
       "      <th>1</th>\n",
       "      <td>/andre-drake/</td>\n",
       "      <td>By Chance (Brazilian Remix)</td>\n",
       "      <td>/andre-drake/by-chance-brazilian-remix.html</td>\n",
       "      <td>[Refrão]. Mais views, pode ser?. Cê sabe, que ...</td>\n",
       "      <td>Black Music</td>\n",
       "      <td>Black Music, Hip Hop, Rap</td>\n",
       "      <td>Black Music, Hip Hop, Rap</td>\n",
       "    </tr>\n",
       "    <tr>\n",
       "      <th>2</th>\n",
       "      <td>/andre-drake/</td>\n",
       "      <td>Casa do Terror</td>\n",
       "      <td>/andre-drake/casa-do-terror.html</td>\n",
       "      <td>4 Paredes uma jaula, na minha mão uma faca. Um...</td>\n",
       "      <td>Black Music</td>\n",
       "      <td>Black Music, Hip Hop, Rap</td>\n",
       "      <td>Black Music, Hip Hop, Rap</td>\n",
       "    </tr>\n",
       "    <tr>\n",
       "      <th>3</th>\n",
       "      <td>/andre-drake/</td>\n",
       "      <td>Na Madrugada</td>\n",
       "      <td>/andre-drake/na-madrugada.html</td>\n",
       "      <td>[Refrão 1]. Na \"madruga\" não consigo dormir. m...</td>\n",
       "      <td>Black Music</td>\n",
       "      <td>Black Music, Hip Hop, Rap</td>\n",
       "      <td>Black Music, Hip Hop, Rap</td>\n",
       "    </tr>\n",
       "    <tr>\n",
       "      <th>4</th>\n",
       "      <td>/andre-drake/</td>\n",
       "      <td>V.P Convida Parte 2</td>\n",
       "      <td>/andre-drake/v-p-convida-parte-2.html</td>\n",
       "      <td>[Vp Rap]. Vp de novo que convida. Dessa vez se...</td>\n",
       "      <td>Black Music</td>\n",
       "      <td>Black Music, Hip Hop, Rap</td>\n",
       "      <td>Black Music, Hip Hop, Rap</td>\n",
       "    </tr>\n",
       "  </tbody>\n",
       "</table>\n",
       "</div>"
      ],
      "text/plain": [
       "           ALink                        SName  \\\n",
       "0  /andre-drake/              Bae ft. V.P Rap   \n",
       "1  /andre-drake/  By Chance (Brazilian Remix)   \n",
       "2  /andre-drake/               Casa do Terror   \n",
       "3  /andre-drake/                 Na Madrugada   \n",
       "4  /andre-drake/          V.P Convida Parte 2   \n",
       "\n",
       "                                         SLink  \\\n",
       "0             /andre-drake/bae-ft-v-p-rap.html   \n",
       "1  /andre-drake/by-chance-brazilian-remix.html   \n",
       "2             /andre-drake/casa-do-terror.html   \n",
       "3               /andre-drake/na-madrugada.html   \n",
       "4        /andre-drake/v-p-convida-parte-2.html   \n",
       "\n",
       "                                               Lyric  ParentGenre  \\\n",
       "0  [André Drake]. Minha princesa eu troco tudo pr...  Black Music   \n",
       "1  [Refrão]. Mais views, pode ser?. Cê sabe, que ...  Black Music   \n",
       "2  4 Paredes uma jaula, na minha mão uma faca. Um...  Black Music   \n",
       "3  [Refrão 1]. Na \"madruga\" não consigo dormir. m...  Black Music   \n",
       "4  [Vp Rap]. Vp de novo que convida. Dessa vez se...  Black Music   \n",
       "\n",
       "                      Genres                 Genres_API  \n",
       "0  Black Music, Hip Hop, Rap  Black Music, Hip Hop, Rap  \n",
       "1  Black Music, Hip Hop, Rap  Black Music, Hip Hop, Rap  \n",
       "2  Black Music, Hip Hop, Rap  Black Music, Hip Hop, Rap  \n",
       "3  Black Music, Hip Hop, Rap  Black Music, Hip Hop, Rap  \n",
       "4  Black Music, Hip Hop, Rap  Black Music, Hip Hop, Rap  "
      ]
     },
     "execution_count": 129,
     "metadata": {},
     "output_type": "execute_result"
    }
   ],
   "source": [
    "df_lyrics = pd.read_csv(\"data/lyrics.csv\", sep =';')\n",
    "\n",
    "df_lyrics[:5]"
   ]
  },
  {
   "cell_type": "code",
   "execution_count": 130,
   "metadata": {},
   "outputs": [],
   "source": [
    "# Unindo estilos\n",
    "dict_map_estilos = {\n",
    "    \"Pagode\": \"Pagode_Samba\",\n",
    "    \"Samba\": \"Pagode_Samba\",\n",
    "    \"Regional\": \"Regional_Sertanejo_Forró_Country\",\n",
    "    \"Sertanejo\": \"Regional_Sertanejo_Forró_Country\",\n",
    "    \"Forró\": \"Regional_Sertanejo_Forró_Country\",\n",
    "    \"Country\": \"Regional_Sertanejo_Forró_Country\",\n",
    "    \"Rock\": \"Rock_Pop/Rock_Rock Alternativo\",\n",
    "    \"Pop/Rock\": \"Rock_Pop/Rock_Rock Alternativo\",\n",
    "    \"Rock Alternativo\" : \"Rock_Pop/Rock_Rock Alternativo\",\n",
    "    \"Rap\": \"Rap_Hip Hop\",\n",
    "    \"Hip Hop\": \"Rap_Hip Hop\",\n",
    "    \"MPB\": \"MPB_Bossa_Nova\",\n",
    "    \"Bossa Nova\": \"MPB_Bossa_Nova\"\n",
    "}\n",
    "\n",
    "df_lyrics = df_lyrics.replace({\"ParentGenre\": dict_map_estilos})\n",
    "\n",
    "serie_parent_genre = df_lyrics[\"ParentGenre\"].value_counts()"
   ]
  },
  {
   "cell_type": "code",
   "execution_count": 131,
   "metadata": {},
   "outputs": [
    {
     "data": {
      "text/plain": [
       "Regional_Sertanejo_Forró_Country    37659\n",
       "Gospel/Religioso                    33586\n",
       "MPB_Bossa_Nova                      15701\n",
       "Pagode_Samba                        11594\n",
       "Rock_Pop/Rock_Rock Alternativo      11031\n",
       "Rap_Hip Hop                          6189\n",
       "Funk Carioca                         4209\n",
       "Pop                                  3535\n",
       "Name: ParentGenre, dtype: int64"
      ]
     },
     "execution_count": 131,
     "metadata": {},
     "output_type": "execute_result"
    }
   ],
   "source": [
    "# Filtrando dataset de músicas para deixar apenas gêneros com mais de 1500 letras musicais.\n",
    "generos_remover = ['Infantil', 'Romântico', 'Velha Guarda']\n",
    "generos_selecionados = list(serie_parent_genre[serie_parent_genre >3000].index)\n",
    "generos_selecionados = [item for item in generos_selecionados if item not in generos_remover]\n",
    "df_lyrics = df_lyrics[df_lyrics[\"ParentGenre\"].isin(generos_selecionados)]\n",
    "\n",
    "df_lyrics[\"ParentGenre\"].value_counts()"
   ]
  },
  {
   "cell_type": "code",
   "execution_count": 132,
   "metadata": {},
   "outputs": [],
   "source": [
    "# Removendo músicas instrumentais\n",
    "df_lyrics = df_lyrics[ ~((df_lyrics.Lyric.str.contains(\"Instrumental\")) & \\\n",
    "                         (df_lyrics.Lyric.str.split(' ').map(lambda x: len(x)<20))) ]\\\n",
    "                     .reset_index(drop=True)"
   ]
  },
  {
   "cell_type": "code",
   "execution_count": 133,
   "metadata": {},
   "outputs": [],
   "source": [
    "# limit é uma variável para determinar quantas letras devem ser utilizadas para o processamento\n",
    "# útil apenas para debug, caso contrário utilizar o tamanho total do dataset\n",
    "limit = df_lyrics[\"Lyric\"].shape[0]\n",
    "serie_lyrics = df_lyrics[\"Lyric\"][0:limit]"
   ]
  },
  {
   "cell_type": "code",
   "execution_count": 134,
   "metadata": {},
   "outputs": [
    {
     "name": "stdout",
     "output_type": "stream",
     "text": [
      "\n",
      "Time(s): 9.60s\n",
      "\n"
     ]
    }
   ],
   "source": [
    "# Removendo conteúdo [] e ()\n",
    "# Transformando strings em minúsculo\n",
    "# Removendo pontuação \n",
    "# Removendo notas de rodapé\n",
    "\n",
    "def process_lyric(lyric):\n",
    "    try:\n",
    "        #lyric = unidecode(lyric)\n",
    "        lyric = lyric.translate(str.maketrans('', '', string.punctuation))\n",
    "    except:\n",
    "        pass\n",
    "    return lyric\n",
    "\n",
    "start = time.time()  \n",
    "serie_lyrics = serie_lyrics.str.lower()\n",
    "serie_lyrics = serie_lyrics.str.replace('\\-\\-(.*?)\\-\\-',' ')\n",
    "serie_lyrics = serie_lyrics.str.replace('\\=\\=(.*?)\\=\\=',' ')\n",
    "serie_lyrics = serie_lyrics.str.replace('\\*\\*(.*?)\\*\\*',' ')\n",
    "serie_lyrics = serie_lyrics.str.replace(\"[\\(\\[].*?[\\)\\]]\",\" \")\n",
    "serie_lyrics = serie_lyrics.str.replace(\"refrão\",\" \")\n",
    "serie_lyrics = serie_lyrics.str.replace(\"2x\",\" \")\n",
    "serie_lyrics = serie_lyrics.map(process_lyric)\n",
    "\n",
    "def processar_array_split_rodape(x):\n",
    "    if(len(x)>1):\n",
    "        x = x[:-1]\n",
    "    return ''.join(x)\n",
    "\n",
    "serie_lyrics = serie_lyrics.str.split(\"enviado por\").map(processar_array_split_rodape)\n",
    "serie_lyrics = serie_lyrics.str.split(\"adicionado por\").map(processar_array_split_rodape)\n",
    "serie_lyrics = serie_lyrics.str.split(\"submited by\").map(processar_array_split_rodape)\n",
    "\n",
    "\n",
    "end = time.time()  \n",
    "print('\\nTime(s): '+str(\"%.2f\" % (end - start)+'s\\n'))"
   ]
  },
  {
   "cell_type": "code",
   "execution_count": 137,
   "metadata": {},
   "outputs": [],
   "source": [
    "# Criando e salvando train_data e test_data. (Proporção 80/20) \n",
    "# Tais arquivos serão utilizados pelo pytext para treino e avaliação do resultado.\n",
    "\n",
    "df_all = pd.DataFrame({\"Genre\": df_lyrics[\"ParentGenre\"][0:limit], \"Lyric\": serie_lyrics})\n",
    "\n",
    "df_all[\"Genre\"] = df_all[\"Genre\"].str.replace(\" \",\"_\")\n",
    "\n",
    "df_all = df_all[df_all['Lyric'].str.len()>0]\n",
    "\n",
    "msk = np.random.rand(len(df_all)) < 0.8\n",
    "\n",
    "df_train = df_all[msk]\n",
    "df_test  = df_all[~msk]\n",
    "\n",
    "df_train.to_csv('train_data.tsv', sep='\\t', index = False, header = False)\n",
    "df_test.to_csv('test_data.tsv', sep='\\t' , index = False, header = False)"
   ]
  },
  {
   "cell_type": "code",
   "execution_count": 15,
   "metadata": {},
   "outputs": [
    {
     "data": {
      "text/plain": [
       "{'Regional_Sertanejo_Forró_Country': 3.3,\n",
       " 'Gospel/Religioso': 3.7,\n",
       " 'MPB_Bossa_Nova': 7.9,\n",
       " 'Pagode_Samba': 10.7,\n",
       " 'Rock_Pop/Rock_Rock_Alternativo': 11.2,\n",
       " 'Rap_Hip_Hop': 20.0,\n",
       " 'Funk_Carioca': 29.3,\n",
       " 'Pop': 34.9}"
      ]
     },
     "execution_count": 15,
     "metadata": {},
     "output_type": "execute_result"
    }
   ],
   "source": [
    "dict_series = df_all[\"Genre\"].value_counts().to_dict()\n",
    "total = df_lyrics.shape[0]\n",
    "for key in dict_series.keys():\n",
    "    dict_series[key] = round(total*100/(100*dict_series[key]),1)\n",
    "dict_series"
   ]
  }
 ],
 "metadata": {
  "kernelspec": {
   "display_name": "Python 3",
   "language": "python",
   "name": "python3"
  },
  "language_info": {
   "codemirror_mode": {
    "name": "ipython",
    "version": 3
   },
   "file_extension": ".py",
   "mimetype": "text/x-python",
   "name": "python",
   "nbconvert_exporter": "python",
   "pygments_lexer": "ipython3",
   "version": "3.7.3"
  }
 },
 "nbformat": 4,
 "nbformat_minor": 2
}
