{
 "cells": [
  {
   "cell_type": "code",
   "execution_count": 1,
   "metadata": {},
   "outputs": [
    {
     "name": "stderr",
     "output_type": "stream",
     "text": [
      "c:\\programdata\\miniconda3\\lib\\site-packages\\tqdm\\autonotebook\\__init__.py:14: TqdmExperimentalWarning: Using `tqdm.autonotebook.tqdm` in notebook mode. Use `tqdm.tqdm` instead to force console mode (e.g. in jupyter console)\n",
      "  \" (e.g. in jupyter console)\", TqdmExperimentalWarning)\n"
     ]
    }
   ],
   "source": [
    "import pandas as pd\n",
    "import numpy as np\n",
    "import time\n",
    "import codecs\n",
    "import seaborn as sns\n",
    "import swifter\n",
    "from polyglot.detect import Detector\n",
    "import requests\n",
    "import json"
   ]
  },
  {
   "cell_type": "code",
   "execution_count": 2,
   "metadata": {},
   "outputs": [],
   "source": [
    "# Abre CSV all_lyrics e substitui todos os caracteres não utf-8 por espaço vazio\n",
    "\n",
    "create_all_lyrics2 = False\n",
    "try:\n",
    "    fh = open(\"data/all_lyrics2.csv\", 'r')\n",
    "except FileNotFoundError:\n",
    "    create_all_lyrics2 = True\n",
    "    \n",
    "if(create_all_lyrics2):\n",
    "    with codecs.open('data/all_lyrics.csv', 'r', encoding='utf-8', errors='replace') as fdata:\n",
    "        data = fdata.read()\n",
    "        f= open(\"data/all_lyrics2.csv\",\"w\",  encoding='utf-8')\n",
    "        f.write(data)\n",
    "        f.close()"
   ]
  },
  {
   "cell_type": "code",
   "execution_count": 3,
   "metadata": {},
   "outputs": [],
   "source": [
    "# Removendo linhas sem letra musical ou com linguagem mapeada diferente de bra ou desconhecido\n",
    "# Remove também músicas duplicadas e músicas intrumentais\n",
    "\n",
    "df_all_lyrics  = pd.read_csv('data/all_lyrics2.csv', encoding='utf8')  \n",
    "df_all_lyrics.drop(columns=[\"Unnamed: 0\"],inplace=True)\n",
    "df_all_lyrics.dropna(subset=[\"Lyric\"], inplace = True)\n",
    "df_all_lyrics[\"Language\"].fillna(\"Desconhecido\", inplace=True)\n",
    "df_all_lyrics['row_number'] = df_all_lyrics.groupby(['LyricLink']).cumcount() + 1\n",
    "df_all_lyrics = df_all_lyrics[df_all_lyrics['row_number']==1].drop(columns = ['row_number'])\n",
    "df_all_lyrics.reset_index(inplace=True, drop = True)"
   ]
  },
  {
   "cell_type": "code",
   "execution_count": 5,
   "metadata": {},
   "outputs": [
    {
     "data": {
      "text/plain": [
       "(390400, 3)"
      ]
     },
     "execution_count": 5,
     "metadata": {},
     "output_type": "execute_result"
    }
   ],
   "source": [
    "df_all_lyrics.shape"
   ]
  },
  {
   "cell_type": "code",
   "execution_count": 4,
   "metadata": {},
   "outputs": [
    {
     "data": {
      "text/plain": [
       "eng             201335\n",
       "Desconhecido    154733\n",
       "esp              10351\n",
       "bra               7422\n",
       "jpn               6908\n",
       "out               4861\n",
       "kor               1473\n",
       "fra               1220\n",
       "ita               1134\n",
       "ale                860\n",
       "hol                 83\n",
       "en                  11\n",
       "icon-cifra           9\n",
       "Name: Language, dtype: int64"
      ]
     },
     "execution_count": 4,
     "metadata": {},
     "output_type": "execute_result"
    }
   ],
   "source": [
    "df_all_lyrics[\"Language\"].value_counts()"
   ]
  },
  {
   "cell_type": "code",
   "execution_count": 25,
   "metadata": {},
   "outputs": [
    {
     "data": {
      "application/vnd.jupyter.widget-view+json": {
       "model_id": "e1b0bdfdc510471185a315a9ba971e0d",
       "version_major": 2,
       "version_minor": 0
      },
      "text/plain": [
       "HBox(children=(IntProgress(value=0, description='Pandas Apply', max=161768, style=ProgressStyle(description_wi…"
      ]
     },
     "metadata": {},
     "output_type": "display_data"
    },
    {
     "name": "stdout",
     "output_type": "stream",
     "text": [
      "\n",
      "\n",
      "Time(s): 12.16s\n",
      "\n"
     ]
    }
   ],
   "source": [
    "# Detectando linguagem usando biblioteca Polyglot\n",
    "\n",
    "\n",
    "df_all_lyrics = df_all_lyrics[(df_all_lyrics[\"Language\"] == \"Desconhecido\") | (df_all_lyrics[\"Language\"] == \"bra\")]\n",
    "\n",
    "def lang_detector(lyric): \n",
    "    dict_result = {}\n",
    "    try:\n",
    "        detector  = Detector(lyric, quiet = True)\n",
    "        languages = detector.languages\n",
    "        for language in languages:\n",
    "            if(language.confidence>0):\n",
    "                dict_result[language.code] = language.confidence\n",
    "    finally:\n",
    "        return dict_result\n",
    "    \n",
    "# Só são consideradas letras musicais onde só foi detectado português\n",
    "    \n",
    "start = time.time()   \n",
    "\n",
    "result  = df_all_lyrics[\"Lyric\"].swifter.apply(lang_detector)\n",
    "df_all_lyrics = df_all_lyrics[result.map(lambda x: ('pt' in x.keys()) & (len(x.keys())==1))]\n",
    "df_all_lyrics.reset_index(inplace=True, drop = True)\n",
    "\n",
    "end = time.time() \n",
    "\n",
    "print('\\nTime(s): '+str(\"%.2f\" % ((end - start)))+'s\\n')"
   ]
  },
  {
   "cell_type": "code",
   "execution_count": 75,
   "metadata": {},
   "outputs": [
    {
     "data": {
      "text/html": [
       "<div>\n",
       "<style scoped>\n",
       "    .dataframe tbody tr th:only-of-type {\n",
       "        vertical-align: middle;\n",
       "    }\n",
       "\n",
       "    .dataframe tbody tr th {\n",
       "        vertical-align: top;\n",
       "    }\n",
       "\n",
       "    .dataframe thead th {\n",
       "        text-align: right;\n",
       "    }\n",
       "</style>\n",
       "<table border=\"1\" class=\"dataframe\">\n",
       "  <thead>\n",
       "    <tr style=\"text-align: right;\">\n",
       "      <th></th>\n",
       "      <th>Lyric</th>\n",
       "      <th>Language</th>\n",
       "      <th>LyricLink</th>\n",
       "    </tr>\n",
       "  </thead>\n",
       "  <tbody>\n",
       "    <tr>\n",
       "      <th>0</th>\n",
       "      <td>[André Drake]. Minha princesa eu troco tudo pr...</td>\n",
       "      <td>Desconhecido</td>\n",
       "      <td>/andre-drake/bae-ft-v-p-rap.html</td>\n",
       "    </tr>\n",
       "    <tr>\n",
       "      <th>1</th>\n",
       "      <td>[Refrão]. Mais views, pode ser?. Cê sabe, que ...</td>\n",
       "      <td>Desconhecido</td>\n",
       "      <td>/andre-drake/by-chance-brazilian-remix.html</td>\n",
       "    </tr>\n",
       "    <tr>\n",
       "      <th>2</th>\n",
       "      <td>4 Paredes uma jaula, na minha mão uma faca. Um...</td>\n",
       "      <td>Desconhecido</td>\n",
       "      <td>/andre-drake/casa-do-terror.html</td>\n",
       "    </tr>\n",
       "    <tr>\n",
       "      <th>3</th>\n",
       "      <td>[Refrão 1]. Na \"madruga\" não consigo dormir. m...</td>\n",
       "      <td>Desconhecido</td>\n",
       "      <td>/andre-drake/na-madrugada.html</td>\n",
       "    </tr>\n",
       "    <tr>\n",
       "      <th>4</th>\n",
       "      <td>[Vp Rap]. Vp de novo que convida. Dessa vez se...</td>\n",
       "      <td>Desconhecido</td>\n",
       "      <td>/andre-drake/v-p-convida-parte-2.html</td>\n",
       "    </tr>\n",
       "  </tbody>\n",
       "</table>\n",
       "</div>"
      ],
      "text/plain": [
       "                                               Lyric      Language  \\\n",
       "0  [André Drake]. Minha princesa eu troco tudo pr...  Desconhecido   \n",
       "1  [Refrão]. Mais views, pode ser?. Cê sabe, que ...  Desconhecido   \n",
       "2  4 Paredes uma jaula, na minha mão uma faca. Um...  Desconhecido   \n",
       "3  [Refrão 1]. Na \"madruga\" não consigo dormir. m...  Desconhecido   \n",
       "4  [Vp Rap]. Vp de novo que convida. Dessa vez se...  Desconhecido   \n",
       "\n",
       "                                     LyricLink  \n",
       "0             /andre-drake/bae-ft-v-p-rap.html  \n",
       "1  /andre-drake/by-chance-brazilian-remix.html  \n",
       "2             /andre-drake/casa-do-terror.html  \n",
       "3               /andre-drake/na-madrugada.html  \n",
       "4        /andre-drake/v-p-convida-parte-2.html  "
      ]
     },
     "execution_count": 75,
     "metadata": {},
     "output_type": "execute_result"
    }
   ],
   "source": [
    "df_all_lyrics[:5]"
   ]
  },
  {
   "cell_type": "code",
   "execution_count": 77,
   "metadata": {},
   "outputs": [
    {
     "data": {
      "text/html": [
       "<div>\n",
       "<style scoped>\n",
       "    .dataframe tbody tr th:only-of-type {\n",
       "        vertical-align: middle;\n",
       "    }\n",
       "\n",
       "    .dataframe tbody tr th {\n",
       "        vertical-align: top;\n",
       "    }\n",
       "\n",
       "    .dataframe thead th {\n",
       "        text-align: right;\n",
       "    }\n",
       "</style>\n",
       "<table border=\"1\" class=\"dataframe\">\n",
       "  <thead>\n",
       "    <tr style=\"text-align: right;\">\n",
       "      <th></th>\n",
       "      <th>ALink</th>\n",
       "      <th>SName</th>\n",
       "      <th>SLink</th>\n",
       "    </tr>\n",
       "  </thead>\n",
       "  <tbody>\n",
       "    <tr>\n",
       "      <th>0</th>\n",
       "      <td>/50-cent/</td>\n",
       "      <td>In da Club</td>\n",
       "      <td>/50-cent/in-da-club.html</td>\n",
       "    </tr>\n",
       "    <tr>\n",
       "      <th>1</th>\n",
       "      <td>/50-cent/</td>\n",
       "      <td>Candy Shop</td>\n",
       "      <td>/50-cent/candy-shop.html</td>\n",
       "    </tr>\n",
       "    <tr>\n",
       "      <th>2</th>\n",
       "      <td>/50-cent/</td>\n",
       "      <td>21 Questions</td>\n",
       "      <td>/50-cent/21-questions.html</td>\n",
       "    </tr>\n",
       "    <tr>\n",
       "      <th>3</th>\n",
       "      <td>/50-cent/</td>\n",
       "      <td>P.I.M.P.</td>\n",
       "      <td>/50-cent/p-i-m-p.html</td>\n",
       "    </tr>\n",
       "    <tr>\n",
       "      <th>4</th>\n",
       "      <td>/50-cent/</td>\n",
       "      <td>Window Shopper</td>\n",
       "      <td>/50-cent/window-shopper.html</td>\n",
       "    </tr>\n",
       "  </tbody>\n",
       "</table>\n",
       "</div>"
      ],
      "text/plain": [
       "       ALink           SName                         SLink\n",
       "0  /50-cent/      In da Club      /50-cent/in-da-club.html\n",
       "1  /50-cent/      Candy Shop      /50-cent/candy-shop.html\n",
       "2  /50-cent/    21 Questions    /50-cent/21-questions.html\n",
       "3  /50-cent/        P.I.M.P.         /50-cent/p-i-m-p.html\n",
       "4  /50-cent/  Window Shopper  /50-cent/window-shopper.html"
      ]
     },
     "execution_count": 77,
     "metadata": {},
     "output_type": "execute_result"
    }
   ],
   "source": [
    "# Carregando dataframe que liga letra a artista e removendo duplicatas\n",
    "\n",
    "df_all_songs_links = pd.read_csv('data/all_songs_links.csv', encoding='utf8')   \n",
    "df_all_songs_links.drop(columns=[\"Unnamed: 0\"],inplace=True)\n",
    "df_all_songs_links['row_number'] = df_all_songs_links.groupby(['SLink']).cumcount() + 1\n",
    "df_all_songs_links = df_all_songs_links[df_all_songs_links['row_number']==1].drop(columns = ['row_number'])\n",
    "df_all_songs_links.reset_index(inplace=True, drop = True)\n",
    "\n",
    "df_all_songs_links[:5]"
   ]
  },
  {
   "cell_type": "code",
   "execution_count": 79,
   "metadata": {},
   "outputs": [
    {
     "data": {
      "text/html": [
       "<div>\n",
       "<style scoped>\n",
       "    .dataframe tbody tr th:only-of-type {\n",
       "        vertical-align: middle;\n",
       "    }\n",
       "\n",
       "    .dataframe tbody tr th {\n",
       "        vertical-align: top;\n",
       "    }\n",
       "\n",
       "    .dataframe thead th {\n",
       "        text-align: right;\n",
       "    }\n",
       "</style>\n",
       "<table border=\"1\" class=\"dataframe\">\n",
       "  <thead>\n",
       "    <tr style=\"text-align: right;\">\n",
       "      <th></th>\n",
       "      <th>ALink</th>\n",
       "      <th>SName</th>\n",
       "      <th>SLink</th>\n",
       "      <th>Lyric</th>\n",
       "    </tr>\n",
       "  </thead>\n",
       "  <tbody>\n",
       "    <tr>\n",
       "      <th>0</th>\n",
       "      <td>/andre-drake/</td>\n",
       "      <td>Bae ft. V.P Rap</td>\n",
       "      <td>/andre-drake/bae-ft-v-p-rap.html</td>\n",
       "      <td>[André Drake]. Minha princesa eu troco tudo pr...</td>\n",
       "    </tr>\n",
       "    <tr>\n",
       "      <th>1</th>\n",
       "      <td>/andre-drake/</td>\n",
       "      <td>By Chance (Brazilian Remix)</td>\n",
       "      <td>/andre-drake/by-chance-brazilian-remix.html</td>\n",
       "      <td>[Refrão]. Mais views, pode ser?. Cê sabe, que ...</td>\n",
       "    </tr>\n",
       "    <tr>\n",
       "      <th>2</th>\n",
       "      <td>/andre-drake/</td>\n",
       "      <td>Casa do Terror</td>\n",
       "      <td>/andre-drake/casa-do-terror.html</td>\n",
       "      <td>4 Paredes uma jaula, na minha mão uma faca. Um...</td>\n",
       "    </tr>\n",
       "    <tr>\n",
       "      <th>3</th>\n",
       "      <td>/andre-drake/</td>\n",
       "      <td>Na Madrugada</td>\n",
       "      <td>/andre-drake/na-madrugada.html</td>\n",
       "      <td>[Refrão 1]. Na \"madruga\" não consigo dormir. m...</td>\n",
       "    </tr>\n",
       "    <tr>\n",
       "      <th>4</th>\n",
       "      <td>/andre-drake/</td>\n",
       "      <td>V.P Convida Parte 2</td>\n",
       "      <td>/andre-drake/v-p-convida-parte-2.html</td>\n",
       "      <td>[Vp Rap]. Vp de novo que convida. Dessa vez se...</td>\n",
       "    </tr>\n",
       "  </tbody>\n",
       "</table>\n",
       "</div>"
      ],
      "text/plain": [
       "           ALink                        SName  \\\n",
       "0  /andre-drake/              Bae ft. V.P Rap   \n",
       "1  /andre-drake/  By Chance (Brazilian Remix)   \n",
       "2  /andre-drake/               Casa do Terror   \n",
       "3  /andre-drake/                 Na Madrugada   \n",
       "4  /andre-drake/          V.P Convida Parte 2   \n",
       "\n",
       "                                         SLink  \\\n",
       "0             /andre-drake/bae-ft-v-p-rap.html   \n",
       "1  /andre-drake/by-chance-brazilian-remix.html   \n",
       "2             /andre-drake/casa-do-terror.html   \n",
       "3               /andre-drake/na-madrugada.html   \n",
       "4        /andre-drake/v-p-convida-parte-2.html   \n",
       "\n",
       "                                               Lyric  \n",
       "0  [André Drake]. Minha princesa eu troco tudo pr...  \n",
       "1  [Refrão]. Mais views, pode ser?. Cê sabe, que ...  \n",
       "2  4 Paredes uma jaula, na minha mão uma faca. Um...  \n",
       "3  [Refrão 1]. Na \"madruga\" não consigo dormir. m...  \n",
       "4  [Vp Rap]. Vp de novo que convida. Dessa vez se...  "
      ]
     },
     "execution_count": 79,
     "metadata": {},
     "output_type": "execute_result"
    }
   ],
   "source": [
    "# Join \n",
    "df_lyrics = df_all_songs_links.merge(df_all_lyrics, left_on='SLink', right_on='LyricLink')\n",
    "df_lyrics.drop(columns=[\"LyricLink\",\"LanguageDetected\",\"Language\"],inplace=True)\n",
    "df_lyrics[:5]"
   ]
  },
  {
   "cell_type": "code",
   "execution_count": 80,
   "metadata": {},
   "outputs": [
    {
     "data": {
      "text/html": [
       "<div>\n",
       "<style scoped>\n",
       "    .dataframe tbody tr th:only-of-type {\n",
       "        vertical-align: middle;\n",
       "    }\n",
       "\n",
       "    .dataframe tbody tr th {\n",
       "        vertical-align: top;\n",
       "    }\n",
       "\n",
       "    .dataframe thead th {\n",
       "        text-align: right;\n",
       "    }\n",
       "</style>\n",
       "<table border=\"1\" class=\"dataframe\">\n",
       "  <thead>\n",
       "    <tr style=\"text-align: right;\">\n",
       "      <th></th>\n",
       "      <th>ParentGenre</th>\n",
       "      <th>Genres</th>\n",
       "      <th>Link</th>\n",
       "    </tr>\n",
       "  </thead>\n",
       "  <tbody>\n",
       "    <tr>\n",
       "      <th>0</th>\n",
       "      <td>Hip Hop</td>\n",
       "      <td>Hip Hop, Rap, Black Music</td>\n",
       "      <td>/50-cent/</td>\n",
       "    </tr>\n",
       "    <tr>\n",
       "      <th>1</th>\n",
       "      <td>Black Music</td>\n",
       "      <td>Black Music, R&amp;B, Hip Hop</td>\n",
       "      <td>/aaliyah/</td>\n",
       "    </tr>\n",
       "    <tr>\n",
       "      <th>2</th>\n",
       "      <td>Black Music</td>\n",
       "      <td>Black Music, Rap, Hip Hop</td>\n",
       "      <td>/ace-hood/</td>\n",
       "    </tr>\n",
       "    <tr>\n",
       "      <th>3</th>\n",
       "      <td>Rap</td>\n",
       "      <td>Rap, Black Music, Pop</td>\n",
       "      <td>/akon/</td>\n",
       "    </tr>\n",
       "    <tr>\n",
       "      <th>4</th>\n",
       "      <td>Black Music</td>\n",
       "      <td>Black Music, Soul Music, R&amp;B</td>\n",
       "      <td>/alicia-keys/</td>\n",
       "    </tr>\n",
       "  </tbody>\n",
       "</table>\n",
       "</div>"
      ],
      "text/plain": [
       "   ParentGenre                        Genres           Link\n",
       "0      Hip Hop     Hip Hop, Rap, Black Music      /50-cent/\n",
       "1  Black Music     Black Music, R&B, Hip Hop      /aaliyah/\n",
       "2  Black Music     Black Music, Rap, Hip Hop     /ace-hood/\n",
       "3          Rap         Rap, Black Music, Pop         /akon/\n",
       "4  Black Music  Black Music, Soul Music, R&B  /alicia-keys/"
      ]
     },
     "execution_count": 80,
     "metadata": {},
     "output_type": "execute_result"
    }
   ],
   "source": [
    "# Carregando dataframe com dados dos artistas\n",
    "\n",
    "df_artists = pd.read_csv('data/artists-data.csv', encoding='utf8')   \n",
    "df_artists.drop(columns=[\"Artist\",\"Songs\",\"Popularity\"],inplace=True)\n",
    "\n",
    "def genres_map(genres_str):\n",
    "    # Removendo \"COLETÂNEA\" dos gêneros mapeados\n",
    "    genres = [y.strip() for y in genres_str.split(\";\")]\n",
    "    if(\"COLETÂNEA\" in genres):\n",
    "        genres.remove(\"COLETÂNEA\")\n",
    "        \n",
    "    return ', '.join(genres)\n",
    "\n",
    "df_artists = df_artists[~df_artists[\"Genres\"].isnull()]\n",
    "\n",
    "df_artists[\"Genres\"] = df_artists[\"Genres\"].map(genres_map)\n",
    "\n",
    "df_artists[:5]"
   ]
  },
  {
   "cell_type": "code",
   "execution_count": 81,
   "metadata": {},
   "outputs": [],
   "source": [
    "# Join dataframe letras músicais e dataframe de artistas\n",
    "\n",
    "df_lyrics = df_lyrics.merge(df_artists, left_on='ALink', right_on='Link')\n",
    "df_lyrics.drop(columns=[\"Link\"],inplace=True)"
   ]
  },
  {
   "cell_type": "code",
   "execution_count": 24,
   "metadata": {},
   "outputs": [
    {
     "data": {
      "text/plain": [
       "0     /andre-drake/\n",
       "1         /ao-cubo/\n",
       "2      /artur-desh/\n",
       "3    /baianasystem/\n",
       "4       /banca-lps/\n",
       "Name: ALink, dtype: object"
      ]
     },
     "execution_count": 24,
     "metadata": {},
     "output_type": "execute_result"
    }
   ],
   "source": [
    "# Obtendo links individuais dos artistas\n",
    "serie_alinks = df_lyrics['ALink'].drop_duplicates().reset_index(drop=True)\n",
    "serie_alinks[0:5]"
   ]
  },
  {
   "cell_type": "code",
   "execution_count": 16,
   "metadata": {},
   "outputs": [],
   "source": [
    "# Preenchendo coluna genres_api com API do vagalume\n",
    "def get_genres(alink):\n",
    "    \n",
    "    resp = \"\"\n",
    "    information_obtained = False\n",
    "    \n",
    "    counter = 0\n",
    "    \n",
    "    exception_obj = None\n",
    "    error_d = False\n",
    "    \n",
    "    while(not(information_obtained)):\n",
    "        try:\n",
    "            result = requests.get(\"https://www.vagalume.com.br\"+alink+\"index.js\")\n",
    "            result_dict = json.loads(result.text)['artist']\n",
    "\n",
    "            genres = []\n",
    "            genres_arr_api = result_dict['genre']\n",
    "            for genre_dict in genres_arr_api:\n",
    "                genres.append(genre_dict['name'])\n",
    "            resp = ', '.join(genres)\n",
    "            information_obtained = True\n",
    "            \n",
    "        except Exception as e:\n",
    "            counter += 1\n",
    "            exception_obj = e\n",
    "            if(counter>20):\n",
    "                information_obtained = True\n",
    "                error_d = True\n",
    "            else:    \n",
    "                time.sleep(0.1)\n",
    "                \n",
    "    if(error_d):\n",
    "        print(\"Erro em \",\"https://www.vagalume.com.br\"+alink+\"index.js\" )\n",
    "        print(exception_obj)\n",
    "        \n",
    "    return resp\n",
    "    "
   ]
  },
  {
   "cell_type": "code",
   "execution_count": 19,
   "metadata": {},
   "outputs": [
    {
     "name": "stdout",
     "output_type": "stream",
     "text": [
      "\n",
      "Time(s): 1802.62s\n",
      "\n"
     ]
    }
   ],
   "source": [
    "start = time.time()\n",
    "series_genres_api = serie_alinks.apply(get_genres)\n",
    "end   = time.time()\n",
    "print('\\nTime(s): '+str(\"%.2f\" % ((end - start)))+'s\\n')"
   ]
  },
  {
   "cell_type": "code",
   "execution_count": 26,
   "metadata": {},
   "outputs": [],
   "source": [
    "df_alink_genre = pd.DataFrame({\"Alink_2\":serie_alinks, \"Genres_API\": series_genres_api })\n",
    "\n",
    "df_lyrics = df_lyrics.merge(df_alink_genre, left_on='ALink', right_on='Alink_2').drop(columns=[\"Alink_2\"])"
   ]
  },
  {
   "cell_type": "code",
   "execution_count": 27,
   "metadata": {},
   "outputs": [],
   "source": [
    "# Salvando dataframe resultante\n",
    "\n",
    "df_lyrics.to_csv(\"lyrics.csv\", sep = ';', index = False)"
   ]
  },
  {
   "cell_type": "code",
   "execution_count": 28,
   "metadata": {},
   "outputs": [
    {
     "data": {
      "text/html": [
       "<div>\n",
       "<style scoped>\n",
       "    .dataframe tbody tr th:only-of-type {\n",
       "        vertical-align: middle;\n",
       "    }\n",
       "\n",
       "    .dataframe tbody tr th {\n",
       "        vertical-align: top;\n",
       "    }\n",
       "\n",
       "    .dataframe thead th {\n",
       "        text-align: right;\n",
       "    }\n",
       "</style>\n",
       "<table border=\"1\" class=\"dataframe\">\n",
       "  <thead>\n",
       "    <tr style=\"text-align: right;\">\n",
       "      <th></th>\n",
       "      <th>ALink</th>\n",
       "      <th>SName</th>\n",
       "      <th>SLink</th>\n",
       "      <th>Lyric</th>\n",
       "      <th>ParentGenre</th>\n",
       "      <th>Genres</th>\n",
       "      <th>Genres_API</th>\n",
       "    </tr>\n",
       "  </thead>\n",
       "  <tbody>\n",
       "    <tr>\n",
       "      <th>0</th>\n",
       "      <td>/andre-drake/</td>\n",
       "      <td>Bae ft. V.P Rap</td>\n",
       "      <td>/andre-drake/bae-ft-v-p-rap.html</td>\n",
       "      <td>[André Drake]. Minha princesa eu troco tudo pr...</td>\n",
       "      <td>Black Music</td>\n",
       "      <td>Black Music, Hip Hop, Rap</td>\n",
       "      <td>Black Music, Hip Hop, Rap</td>\n",
       "    </tr>\n",
       "    <tr>\n",
       "      <th>1</th>\n",
       "      <td>/andre-drake/</td>\n",
       "      <td>By Chance (Brazilian Remix)</td>\n",
       "      <td>/andre-drake/by-chance-brazilian-remix.html</td>\n",
       "      <td>[Refrão]. Mais views, pode ser?. Cê sabe, que ...</td>\n",
       "      <td>Black Music</td>\n",
       "      <td>Black Music, Hip Hop, Rap</td>\n",
       "      <td>Black Music, Hip Hop, Rap</td>\n",
       "    </tr>\n",
       "    <tr>\n",
       "      <th>2</th>\n",
       "      <td>/andre-drake/</td>\n",
       "      <td>Casa do Terror</td>\n",
       "      <td>/andre-drake/casa-do-terror.html</td>\n",
       "      <td>4 Paredes uma jaula, na minha mão uma faca. Um...</td>\n",
       "      <td>Black Music</td>\n",
       "      <td>Black Music, Hip Hop, Rap</td>\n",
       "      <td>Black Music, Hip Hop, Rap</td>\n",
       "    </tr>\n",
       "    <tr>\n",
       "      <th>3</th>\n",
       "      <td>/andre-drake/</td>\n",
       "      <td>Na Madrugada</td>\n",
       "      <td>/andre-drake/na-madrugada.html</td>\n",
       "      <td>[Refrão 1]. Na \"madruga\" não consigo dormir. m...</td>\n",
       "      <td>Black Music</td>\n",
       "      <td>Black Music, Hip Hop, Rap</td>\n",
       "      <td>Black Music, Hip Hop, Rap</td>\n",
       "    </tr>\n",
       "    <tr>\n",
       "      <th>4</th>\n",
       "      <td>/andre-drake/</td>\n",
       "      <td>V.P Convida Parte 2</td>\n",
       "      <td>/andre-drake/v-p-convida-parte-2.html</td>\n",
       "      <td>[Vp Rap]. Vp de novo que convida. Dessa vez se...</td>\n",
       "      <td>Black Music</td>\n",
       "      <td>Black Music, Hip Hop, Rap</td>\n",
       "      <td>Black Music, Hip Hop, Rap</td>\n",
       "    </tr>\n",
       "  </tbody>\n",
       "</table>\n",
       "</div>"
      ],
      "text/plain": [
       "           ALink                        SName  \\\n",
       "0  /andre-drake/              Bae ft. V.P Rap   \n",
       "1  /andre-drake/  By Chance (Brazilian Remix)   \n",
       "2  /andre-drake/               Casa do Terror   \n",
       "3  /andre-drake/                 Na Madrugada   \n",
       "4  /andre-drake/          V.P Convida Parte 2   \n",
       "\n",
       "                                         SLink  \\\n",
       "0             /andre-drake/bae-ft-v-p-rap.html   \n",
       "1  /andre-drake/by-chance-brazilian-remix.html   \n",
       "2             /andre-drake/casa-do-terror.html   \n",
       "3               /andre-drake/na-madrugada.html   \n",
       "4        /andre-drake/v-p-convida-parte-2.html   \n",
       "\n",
       "                                               Lyric  ParentGenre  \\\n",
       "0  [André Drake]. Minha princesa eu troco tudo pr...  Black Music   \n",
       "1  [Refrão]. Mais views, pode ser?. Cê sabe, que ...  Black Music   \n",
       "2  4 Paredes uma jaula, na minha mão uma faca. Um...  Black Music   \n",
       "3  [Refrão 1]. Na \"madruga\" não consigo dormir. m...  Black Music   \n",
       "4  [Vp Rap]. Vp de novo que convida. Dessa vez se...  Black Music   \n",
       "\n",
       "                      Genres                 Genres_API  \n",
       "0  Black Music, Hip Hop, Rap  Black Music, Hip Hop, Rap  \n",
       "1  Black Music, Hip Hop, Rap  Black Music, Hip Hop, Rap  \n",
       "2  Black Music, Hip Hop, Rap  Black Music, Hip Hop, Rap  \n",
       "3  Black Music, Hip Hop, Rap  Black Music, Hip Hop, Rap  \n",
       "4  Black Music, Hip Hop, Rap  Black Music, Hip Hop, Rap  "
      ]
     },
     "execution_count": 28,
     "metadata": {},
     "output_type": "execute_result"
    }
   ],
   "source": [
    "df_lyrics[:5]"
   ]
  }
 ],
 "metadata": {
  "kernelspec": {
   "display_name": "Python 3",
   "language": "python",
   "name": "python3"
  },
  "language_info": {
   "codemirror_mode": {
    "name": "ipython",
    "version": 3
   },
   "file_extension": ".py",
   "mimetype": "text/x-python",
   "name": "python",
   "nbconvert_exporter": "python",
   "pygments_lexer": "ipython3",
   "version": "3.7.3"
  }
 },
 "nbformat": 4,
 "nbformat_minor": 2
}
